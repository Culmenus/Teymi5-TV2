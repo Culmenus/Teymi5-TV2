{
 "cells": [
  {
   "cell_type": "markdown",
   "metadata": {},
   "source": [
    "## Testing area for SequenceActorTomas.py"
   ]
  },
  {
   "cell_type": "code",
   "execution_count": 1,
   "metadata": {
    "id": "4RWk2LpLs1ec"
   },
   "outputs": [],
   "source": [
    "from SS import SequenceEnv\n",
    "env = SequenceEnv()"
   ]
  },
  {
   "cell_type": "code",
   "execution_count": 2,
   "metadata": {},
   "outputs": [
    {
     "name": "stdout",
     "output_type": "stream",
     "text": [
      "[="
     ]
    },
    {
     "name": "stderr",
     "output_type": "stream",
     "text": [
      "/home/tomas/Forritun/Python/IÐN102M/Teymi5-TV2/verk3/Tomas/SequenceActorTomas.py:265: UserWarning: To copy construct from a tensor, it is recommended to use sourceTensor.clone().detach() or sourceTensor.clone().detach().requires_grad_(True), rather than torch.tensor(sourceTensor).\n",
      "  delta = torch.tensor(delta, dtype = torch.float, device=self.device)\n"
     ]
    },
    {
     "name": "stdout",
     "output_type": "stream",
     "text": [
      "===================] Finished 100 episodes\n",
      "training: [44, 54]\n",
      "[====================] Finished 50 episodes\n",
      "greedy 1: [31, 18]\n",
      "[====================] Finished 50 episodes\n",
      "greedy 2: [20, 30]\n",
      "[====================] Finished 100 episodes\n",
      "training: [52, 47]\n",
      "[====================] Finished 50 episodes\n",
      "greedy 1: [34, 16]\n",
      "[====================] Finished 50 episodes\n",
      "greedy 2: [23, 27]\n",
      "[====================] Finished 100 episodes\n",
      "training: [49, 47]\n",
      "[====================] Finished 50 episodes\n",
      "greedy 1: [26, 23]\n",
      "[====================] Finished 50 episodes\n",
      "greedy 2: [28, 21]\n",
      "[====================] Finished 100 episodes\n",
      "training: [52, 46]\n",
      "[====================] Finished 50 episodes\n",
      "greedy 1: [32, 17]\n",
      "[====================] Finished 50 episodes\n",
      "greedy 2: [21, 29]\n",
      "[====================] Finished 100 episodes\n",
      "training: [43, 53]\n",
      "[====================] Finished 50 episodes\n",
      "greedy 1: [31, 19]\n",
      "[====================] Finished 50 episodes\n",
      "greedy 2: [22, 27]\n",
      "[====================] Finished 100 episodes\n",
      "training: [55, 43]\n",
      "[====================] Finished 50 episodes\n",
      "greedy 1: [20, 29]\n",
      "[====================] Finished 50 episodes\n",
      "greedy 2: [26, 24]\n",
      "[====================] Finished 100 episodes\n",
      "training: [52, 47]\n",
      "[====================] Finished 50 episodes\n",
      "greedy 1: [22, 28]\n",
      "[====================] Finished 50 episodes\n",
      "greedy 2: [23, 25]\n",
      "[====================] Finished 100 episodes\n",
      "training: [54, 45]\n",
      "[====================] Finished 50 episodes\n",
      "greedy 1: [27, 20]\n",
      "[====================] Finished 50 episodes\n",
      "greedy 2: [22, 28]\n",
      "[====================] Finished 100 episodes\n",
      "training: [47, 47]\n",
      "[====================] Finished 50 episodes\n",
      "greedy 1: [29, 21]\n",
      "[====================] Finished 50 episodes\n",
      "greedy 2: [23, 27]\n",
      "[====================] Finished 100 episodes\n",
      "training: [39, 58]\n",
      "[====================] Finished 50 episodes\n",
      "greedy 1: [27, 22]\n",
      "[====================] Finished 50 episodes\n",
      "greedy 2: [27, 22]\n"
     ]
    }
   ],
   "source": [
    "for i in range(10):\n",
    "  wins = env.learn(episodes=1000, verbose=True)\n",
    "  print(f'training: {wins}')\n",
    "  wins = env.learn2(policy=('greedy', 'random'), episodes=500, verbose=True)\n",
    "  print(f'greedy 1: {wins}')\n",
    "  wins = env.learn2(policy=('random', 'greedy'), episodes=500, verbose=True)\n",
    "  print(f'greedy 2: {wins}')"
   ]
  }
 ],
 "metadata": {
  "colab": {
   "collapsed_sections": [],
   "name": "Sequence.ipynb",
   "provenance": []
  },
  "interpreter": {
   "hash": "8926e7d889c19ebfffb4fc64746dbd1197d0d6096200c693dce178a72073afc3"
  },
  "kernelspec": {
   "display_name": "Python 3.8.10 64-bit ('snek': venv)",
   "name": "python3"
  },
  "language_info": {
   "codemirror_mode": {
    "name": "ipython",
    "version": 3
   },
   "file_extension": ".py",
   "mimetype": "text/x-python",
   "name": "python",
   "nbconvert_exporter": "python",
   "pygments_lexer": "ipython3",
   "version": "3.8.10"
  }
 },
 "nbformat": 4,
 "nbformat_minor": 4
}
