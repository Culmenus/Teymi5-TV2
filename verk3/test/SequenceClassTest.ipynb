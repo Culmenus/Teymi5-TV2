{
 "cells": [
  {
   "cell_type": "code",
   "execution_count": 1,
   "metadata": {
    "tags": []
   },
   "outputs": [
    {
     "name": "stdout",
     "output_type": "stream",
     "text": [
      "[[-1  0  0  0  0  0  0  0  0 -1]\n",
      " [ 0  0  0  0  0  0  0  0  0  0]\n",
      " [ 0  0  0  0  0  0  0  0  0  0]\n",
      " [ 0  0  0  0  0  0  0  0  0  0]\n",
      " [ 0  0  0  0  0  0  0  0  0  0]\n",
      " [ 0  0  0  0  0  0  0  0  0  0]\n",
      " [ 0  0  0  0  0  0  0  0  0  0]\n",
      " [ 0  0  0  0  0  0  0  0  0  0]\n",
      " [ 0  0  0  0  0  0  0  0  0  0]\n",
      " [-1  0  0  0  0  0  0  0  0 -1]]\n"
     ]
    }
   ],
   "source": [
    "import numpy as np\n",
    "from SequenceGame import SequenceEnv\n",
    "\n",
    "env = SequenceEnv()\n",
    "\n",
    "print(env.discs_on_board)\n"
   ]
  },
  {
   "cell_type": "code",
   "execution_count": 2,
   "metadata": {
    "collapsed": false,
    "jupyter": {
     "outputs_hidden": false
    },
    "pycharm": {
     "name": "#%%\n"
    }
   },
   "outputs": [
    {
     "name": "stdout",
     "output_type": "stream",
     "text": [
      "no_feasible_move =  0  player =  2  cards in deck =  22  last played card at coords: ( 4 1 )\n",
      "[[-1  2  1  1  1  1  1  2  2 -1]\n",
      " [ 0  2  1  1  0  2  0  0  2  1]\n",
      " [ 0  2  1  2  0  2  2  0  2  2]\n",
      " [ 2  2  1  1  1  0  2  0  0  1]\n",
      " [ 1  2  2  1  0  1  1  2  0  0]\n",
      " [ 2  2  0  2  2  0  0  1  2  2]\n",
      " [ 1  0  2  0  1  0  1  1  1  2]\n",
      " [ 0  0  2  1  0  1  2  2  1  1]\n",
      " [ 1  2  2  1  2  0  0  0  1  0]\n",
      " [-1  1  2  1  0  2  1  0  1 -1]]\n"
     ]
    },
    {
     "data": {
      "image/png": "[encoded data removed]",
      "text/plain": [
       "<Figure size 432x288 with 2 Axes>"
      ]
     },
     "metadata": {
      "needs_background": "light"
     },
     "output_type": "display_data"
    }
   ],
   "source": [
    "env.play_full_game()\n"
   ]
  },
  {
   "cell_type": "code",
   "execution_count": null,
   "metadata": {},
   "outputs": [],
   "source": []
  }
 ],
 "metadata": {
  "kernelspec": {
   "display_name": "Python 3 (ipykernel)",
   "language": "python",
   "name": "python3"
  },
  "language_info": {
   "codemirror_mode": {
    "name": "ipython",
    "version": 3
   },
   "file_extension": ".py",
   "mimetype": "text/x-python",
   "name": "python",
   "nbconvert_exporter": "python",
   "pygments_lexer": "ipython3",
   "version": "3.8.11"
  }
 },
 "nbformat": 4,
 "nbformat_minor": 4
}
